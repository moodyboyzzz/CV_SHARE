{
 "cells": [
  {
   "cell_type": "code",
   "execution_count": 34,
   "id": "2a1bb352",
   "metadata": {},
   "outputs": [
    {
     "name": "stdout",
     "output_type": "stream",
     "text": [
      "Результаты успешно записаны в файл seminar02_task02.csv\n"
     ]
    }
   ],
   "source": [
    "import csv\n",
    "\n",
    "# Данные для записи\n",
    "data = [\n",
    "    {'task1': 255, 'task2': 1031, 'task3': 125, 'task4': 50}\n",
    "]\n",
    "\n",
    "# Запись данных в файл CSV\n",
    "with open('seminar02_task02.csv', mode='w', newline='') as file:\n",
    "    writer = csv.DictWriter(file, fieldnames=['task1', 'task2', 'task3', 'task4'])\n",
    "    writer.writeheader()\n",
    "    writer.writerows(data)\n",
    "\n",
    "print(\"Результаты успешно записаны в файл seminar02_task02.csv\")"
   ]
  },
  {
   "cell_type": "code",
   "execution_count": 35,
   "id": "9c41c2f1",
   "metadata": {},
   "outputs": [
    {
     "name": "stdout",
     "output_type": "stream",
     "text": [
      "   task1  task2  task3  task4\n",
      "0    255   1031    125     50\n"
     ]
    }
   ],
   "source": [
    "import pandas as pd\n",
    "print(pd.read_csv(\"seminar02_task02.csv\"))"
   ]
  },
  {
   "cell_type": "code",
   "execution_count": 29,
   "id": "083a8b24",
   "metadata": {},
   "outputs": [
    {
     "name": "stdout",
     "output_type": "stream",
     "text": [
      "Размер рецептивного поля: 5\n",
      "Размер рецептивного поля: 25\n",
      "Размер рецептивного поля: 125\n",
      "Размер рецептивного поля: 125\n",
      "Размер рецептивного поля: 125\n"
     ]
    }
   ],
   "source": [
    "# Размеры фильтров и шаги для каждого слоя свертки\n",
    "layers_info = [\n",
    "    {\"kernel_size\": 5, \"stride\": 1},  # Первый слой\n",
    "    {\"kernel_size\": 3, \"stride\": 2},  # Второй слой\n",
    "    {\"kernel_size\": 3, \"stride\": 2},  # Третий слой\n",
    "    {\"kernel_size\": 1, \"stride\": 1},  # Четвёртый слой\n",
    "    {\"kernel_size\": 1, \"stride\": 1}   # Пятый слой\n",
    "]\n",
    "\n",
    "receptive_field = 1  # Начинаем с размера рецептивного поля 1x1\n",
    "\n",
    "# Вычисляем размер рецептивного поля для каждого слоя\n",
    "for layer_info in layers_info:\n",
    "    kernel_size = layer_info[\"kernel_size\"]\n",
    "    stride = layer_info[\"stride\"]\n",
    "    receptive_field += (kernel_size - 1) * receptive_field * stride\n",
    "\n",
    "    # Выводим размер рецептивного поля для текущего слоя\n",
    "    print(f\"Размер рецептивного поля: {receptive_field}\")\n",
    "\n",
    "# Результаты можно сохранить в файл, если нужно\n",
    "# Пример записи в файл:\n",
    "# with open(\"receptive_field_sizes.txt\", \"w\") as file:\n",
    "#     for rf in receptive_field_sizes:\n",
    "#         file.write(f\"Размер рецептивного поля: {rf}\\n\")"
   ]
  },
  {
   "cell_type": "code",
   "execution_count": 30,
   "id": "d0704971",
   "metadata": {},
   "outputs": [
    {
     "name": "stdout",
     "output_type": "stream",
     "text": [
      "Общий размер рецептивного поля для всей сети: 125\n"
     ]
    }
   ],
   "source": [
    "# Размеры фильтров и шаги для каждого слоя свертки\n",
    "layers_info = [\n",
    "    {\"kernel_size\": 5, \"stride\": 1},  # Первый слой\n",
    "    {\"kernel_size\": 3, \"stride\": 2},  # Второй слой\n",
    "    {\"kernel_size\": 3, \"stride\": 2},  # Третий слой\n",
    "    {\"kernel_size\": 1, \"stride\": 1},  # Четвёртый слой\n",
    "    {\"kernel_size\": 1, \"stride\": 1}   # Пятый слой\n",
    "]\n",
    "\n",
    "receptive_field = 1  # Начинаем с размера рецептивного поля 1x1\n",
    "\n",
    "# Вычисляем размер рецептивного поля для каждого слоя\n",
    "for layer_info in layers_info:\n",
    "    kernel_size = layer_info[\"kernel_size\"]\n",
    "    stride = layer_info[\"stride\"]\n",
    "    receptive_field += (kernel_size - 1) * receptive_field * stride\n",
    "\n",
    "# Выводим общий размер рецептивного поля\n",
    "print(f\"Общий размер рецептивного поля для всей сети: {receptive_field}\")\n",
    "\n",
    "# Результаты можно сохранить в файл, если нужно\n",
    "# Пример записи в файл:\n",
    "# with open(\"total_receptive_field.txt\", \"w\") as file:\n",
    "#     file.write(f\"Общий размер рецептивного поля для всей сети: {receptive_field}\\n\")"
   ]
  },
  {
   "cell_type": "code",
   "execution_count": 33,
   "id": "99beffc6",
   "metadata": {},
   "outputs": [
    {
     "name": "stdout",
     "output_type": "stream",
     "text": [
      "Наименьший вход, при котором размер выхода будет ближе всего к 256x256: 1031x1031\n"
     ]
    }
   ],
   "source": [
    "# Размеры фильтров и шаги для каждого слоя свертки\n",
    "layers_info = [\n",
    "    {\"kernel_size\": 5, \"stride\": 1},  # Первый слой\n",
    "    {\"kernel_size\": 3, \"stride\": 2},  # Второй слой\n",
    "    {\"kernel_size\": 3, \"stride\": 2},  # Третий слой\n",
    "    {\"kernel_size\": 1, \"stride\": 1},  # Четвёртый слой\n",
    "    {\"kernel_size\": 1, \"stride\": 1}   # Пятый слой\n",
    "]\n",
    "\n",
    "target_output_size = 256  # Размер выхода, к которому стремимся\n",
    "\n",
    "# Функция для вычисления размера входа для данного размера выхода\n",
    "def calculate_input_size(output_size):\n",
    "    input_size = output_size\n",
    "    # Идём в обратную сторону через каждый слой\n",
    "    for layer_info in reversed(layers_info):\n",
    "        kernel_size = layer_info[\"kernel_size\"]\n",
    "        stride = layer_info[\"stride\"]\n",
    "        # Формула для вычисления размера входа из размера выхода\n",
    "        input_size = (input_size - 1) * stride + kernel_size\n",
    "    return input_size\n",
    "\n",
    "# Начинаем с размера выхода, к которому стремимся\n",
    "current_output_size = target_output_size\n",
    "# Вычисляем размер входа\n",
    "input_size = calculate_input_size(current_output_size)\n",
    "\n",
    "print(f\"Наименьший вход, при котором размер выхода будет ближе всего к {target_output_size}x{target_output_size}: {input_size}x{input_size}\")\n",
    "\n",
    "# Результаты можно сохранить в файл, если нужно\n",
    "# Пример записи в файл:\n",
    "# with open(\"smallest_input_size.txt\", \"w\") as file:\n",
    "#     file.write(f\"Наименьший вход, при котором размер выхода будет ближе всего к {target_output_size}x{target_output_size}: {input_size}x{input_size}\\n\")"
   ]
  }
 ],
 "metadata": {
  "kernelspec": {
   "display_name": "Python 3 (ipykernel)",
   "language": "python",
   "name": "python3"
  },
  "language_info": {
   "codemirror_mode": {
    "name": "ipython",
    "version": 3
   },
   "file_extension": ".py",
   "mimetype": "text/x-python",
   "name": "python",
   "nbconvert_exporter": "python",
   "pygments_lexer": "ipython3",
   "version": "3.11.4"
  }
 },
 "nbformat": 4,
 "nbformat_minor": 5
}
