{
 "cells": [
  {
   "cell_type": "code",
   "execution_count": 3,
   "id": "6e6a19ea",
   "metadata": {},
   "outputs": [],
   "source": [
    "import numpy as np\n",
    "from PIL import Image\n",
    "import pandas as pd\n",
    "\n",
    "image = np.array(Image.open('image.png')) / 255.0\n",
    "\n",
    "averaged_image = np.mean(image, axis=2)\n",
    "\n",
    "task = pd.read_csv('task.csv')\n",
    "row = task['row'].values[0]\n",
    "col = task['col'].values[0]\n",
    "\n",
    "len = task['len'].values[0]\n",
    "patch = averaged_image[row:row+len, col:col+len]\n",
    "\n",
    "np.save('seminar01_crop.npy', patch, allow_pickle=False)"
   ]
  }
 ],
 "metadata": {
  "kernelspec": {
   "display_name": "Python 3 (ipykernel)",
   "language": "python",
   "name": "python3"
  },
  "language_info": {
   "codemirror_mode": {
    "name": "ipython",
    "version": 3
   },
   "file_extension": ".py",
   "mimetype": "text/x-python",
   "name": "python",
   "nbconvert_exporter": "python",
   "pygments_lexer": "ipython3",
   "version": "3.11.4"
  }
 },
 "nbformat": 4,
 "nbformat_minor": 5
}
