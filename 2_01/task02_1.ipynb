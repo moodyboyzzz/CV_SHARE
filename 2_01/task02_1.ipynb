{
 "cells": [
  {
   "cell_type": "code",
   "execution_count": 41,
   "id": "e1c2ebbd",
   "metadata": {},
   "outputs": [
    {
     "name": "stdout",
     "output_type": "stream",
     "text": [
      "Результаты успешно записаны в файл seminar02_task02.csv\n"
     ]
    }
   ],
   "source": [
    "import pandas as pd\n",
    "\n",
    "def count_params_conv(h, w, cin, cout, kh, kw):\n",
    "    # Обычная свертка\n",
    "    p_conv = (kh * kw * cin + 1) * cout\n",
    "    op_conv = h * w * kh * kw * cin * cout\n",
    "\n",
    "    # Локальная свертка\n",
    "    p_lconv = p_conv\n",
    "    op_lconv = kh * kw * cin * h * w + h * w * cout\n",
    "\n",
    "    # Групповая свертка\n",
    "    g = 4  # количество групп\n",
    "    p_gconv = (kh * kw * cin // g + 1) * cout\n",
    "    op_gconv = h * w * kh * kw * cin * cout\n",
    "\n",
    "    # Поканально разделяемая свертка\n",
    "    p_dwsconv = (kh * kw * cin + 1) + (1 * cin * cout)\n",
    "    op_dwsconv = h * w * kh * kw * cin + h * w * cin * cout\n",
    "\n",
    "    return p_conv, p_lconv, p_gconv, p_dwsconv, op_conv, op_lconv, op_gconv, op_dwsconv\n",
    "\n",
    "def count_params_fcon(h, w, cin, cout):\n",
    "    # Полносвязный слой\n",
    "    p_fcon = (h * w * cin + 1) * cout\n",
    "    op_fcon = h * w * cin * cout\n",
    "    return p_fcon, op_fcon\n",
    "\n",
    "filename = \"seminar02_task01_conv.csv\"\n",
    "\n",
    "# Параметры сверток\n",
    "h, w = 20, 30  # Пример размерности входа (h x w)\n",
    "cin = 8  # Пример количества входных карт\n",
    "cout = 12  # Пример количества выходных карт\n",
    "kh, kw = 5, 5  # Пример размера ядра свертки\n",
    "\n",
    "# Подсчет параметров и операций\n",
    "conv_params = count_params_conv(h, w, cin, cout, kh, kw)\n",
    "fcon_params = count_params_fcon(h, w, cin, cout)\n",
    "\n",
    "# Запись результатов в файл\n",
    "df = pd.DataFrame([conv_params + fcon_params], columns=[\n",
    "    'p_conv', 'p_lconv', 'p_gconv', 'p_dwsconv', 'p_fcon',\n",
    "    'op_conv', 'op_lconv', 'op_gconv', 'op_dwsconv', 'op_fcon'\n",
    "])\n",
    "df.to_csv(filename, index=False)"
   ]
  },
  {
   "cell_type": "code",
   "execution_count": 40,
   "id": "2e2cfe3f",
   "metadata": {},
   "outputs": [
    {
     "name": "stdout",
     "output_type": "stream",
     "text": [
      "   p_conv  p_lconv  p_gconv  p_dwsconv   p_fcon  op_conv  op_lconv  op_gconv  \\\n",
      "0    2412     2412      612        297  1440000   127200   1440000    177600   \n",
      "\n",
      "   op_dwsconv  op_fcon  \n",
      "0       57612    57600  \n",
      "    w   h  kw  kh  cin  cout  g\n",
      "0  20  30   5   5    8    12  4\n"
     ]
    }
   ],
   "source": [
    "##### data1 = \"seminar02_task01_conv.csv\"\n",
    "df1 = pd.read_csv(data1)\n",
    "print(df1)\n",
    "print(pd.read_csv(\"task.csv\"))"
   ]
  }
 ],
 "metadata": {
  "kernelspec": {
   "display_name": "Python 3 (ipykernel)",
   "language": "python",
   "name": "python3"
  },
  "language_info": {
   "codemirror_mode": {
    "name": "ipython",
    "version": 3
   },
   "file_extension": ".py",
   "mimetype": "text/x-python",
   "name": "python",
   "nbconvert_exporter": "python",
   "pygments_lexer": "ipython3",
   "version": "3.11.4"
  }
 },
 "nbformat": 4,
 "nbformat_minor": 5
}
