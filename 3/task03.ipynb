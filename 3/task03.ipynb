{
 "cells": [
  {
   "cell_type": "code",
   "execution_count": 15,
   "id": "be82e649",
   "metadata": {},
   "outputs": [],
   "source": [
    "import numpy as np\n",
    "\n",
    "# Загрузка данных\n",
    "tensor = np.load('tensor.npy')\n",
    "kernel = np.load('kernel.npy')\n",
    "bias = np.load('bias.npy')\n",
    "stride = int(open('task.csv').readlines()[1])\n",
    "\n",
    "# Вычисление размеров выходного тензора\n",
    "ch = (tensor.shape[1] - kernel.shape[0]) // stride + 1\n",
    "cw = (tensor.shape[2] - kernel.shape[1]) // stride + 1\n",
    "\n",
    "# Функция для применения свертки к одной части тензора\n",
    "def apply_convolution(patch, kernel, bias):\n",
    "    conv_result = np.sum(patch * kernel) + bias\n",
    "    return conv_result\n",
    "\n",
    "# Создание выходного тензора\n",
    "my_tensor = np.zeros((tensor.shape[0], ch, cw, kernel.shape[3]))\n",
    "\n",
    "# Применение свертки к каждой части входного тензора\n",
    "for batch in range(tensor.shape[0]):\n",
    "    for h_out in range(ch):\n",
    "        for w_out in range(cw):\n",
    "            h_start = h_out * stride\n",
    "            h_end = h_start + kernel.shape[0]\n",
    "            w_start = w_out * stride\n",
    "            w_end = w_start + kernel.shape[1]\n",
    "            patch = tensor[batch, h_start:h_end, w_start:w_end]\n",
    "            for cout in range(kernel.shape[3]):\n",
    "                my_tensor[batch, h_out, w_out, cout] = apply_convolution(patch, kernel[:, :, :, cout], bias[cout])\n",
    "\n",
    "# Сохранение результата\n",
    "np.save('seminar03_conv.npy', my_tensor, allow_pickle=False)"
   ]
  }
 ],
 "metadata": {
  "kernelspec": {
   "display_name": "Python 3 (ipykernel)",
   "language": "python",
   "name": "python3"
  },
  "language_info": {
   "codemirror_mode": {
    "name": "ipython",
    "version": 3
   },
   "file_extension": ".py",
   "mimetype": "text/x-python",
   "name": "python",
   "nbconvert_exporter": "python",
   "pygments_lexer": "ipython3",
   "version": "3.11.4"
  }
 },
 "nbformat": 4,
 "nbformat_minor": 5
}
